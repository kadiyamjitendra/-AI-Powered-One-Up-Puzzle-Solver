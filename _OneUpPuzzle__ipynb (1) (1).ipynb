{
  "nbformat": 4,
  "nbformat_minor": 0,
  "metadata": {
    "colab": {
      "provenance": []
    },
    "kernelspec": {
      "name": "python3",
      "display_name": "Python 3"
    },
    "language_info": {
      "name": "python"
    }
  },
  "cells": [
    {
      "cell_type": "code",
      "source": [
        "!pip install colorama"
      ],
      "metadata": {
        "id": "xUjDqSFgDFKV",
        "colab": {
          "base_uri": "https://localhost:8080/"
        },
        "outputId": "30cdb320-d3a2-449b-9681-9ce0c35c267a"
      },
      "execution_count": null,
      "outputs": [
        {
          "output_type": "stream",
          "name": "stdout",
          "text": [
            "Requirement already satisfied: colorama in /usr/local/lib/python3.10/dist-packages (0.4.6)\n"
          ]
        }
      ]
    },
    {
      "cell_type": "code",
      "source": [
        "import copy\n",
        "import random\n",
        "import matplotlib.pyplot as plt\n",
        "import numpy as np\n",
        "\n",
        "\n",
        "class GameBoard:\n",
        "    def __init__(self, gamestr_h, gamestr_v):\n",
        "        self.gamestr_h = gamestr_h\n",
        "        self.gamestr_v = gamestr_v\n",
        "        self.board = {}\n",
        "        self.nb_rows = 0\n",
        "        self.nb_cols = 0\n",
        "        self.domain = {}\n",
        "\n",
        "    def parse_horizontal(self):\n",
        "        i, j, segh = 0, 0, 0\n",
        "        for c in self.gamestr_h:\n",
        "            if c == 'x':\n",
        "                self.board[(i, j, segh, 0)] = -1\n",
        "                j += 1\n",
        "            elif c == 'r':\n",
        "                i += 1\n",
        "                j = 0\n",
        "                segh = 0\n",
        "            elif c in 'wb':\n",
        "                segh += 1\n",
        "                j += 1 if c == 'b' else 0\n",
        "            else:\n",
        "                self.board[(i, j, segh, 0)] = int(c)\n",
        "                j += 1\n",
        "        self.nb_rows = i + 1\n",
        "\n",
        "    def parse_vertical(self):\n",
        "        i, j, segv = 0, 0, 0\n",
        "        for c in self.gamestr_v:\n",
        "            if c == 'x':\n",
        "                self.board[(i, j, 0, segv)] = -1\n",
        "                i += 1\n",
        "            elif c == 'c':\n",
        "                j += 1\n",
        "                i = 0\n",
        "                segv = 0\n",
        "            elif c in 'wb':\n",
        "                segv += 1\n",
        "                i += 1 if c == 'b' else 0\n",
        "            else:\n",
        "                self.board[(i, j, 0, segv)] = int(c)\n",
        "                i += 1\n",
        "        self.nb_cols = j + 1\n",
        "\n",
        "    def merge_segments(self):\n",
        "        for i in range(self.nb_rows):\n",
        "            for j in range(self.nb_cols):\n",
        "                groupby = [k for k in self.board.keys() if k[0] == i and k[1] == j]\n",
        "                if not groupby:\n",
        "                    continue\n",
        "                max_segh = max(k[2] for k in groupby)\n",
        "                max_segv = max(k[3] for k in groupby)\n",
        "                value = self.board[groupby[0]]\n",
        "                for k in groupby:\n",
        "                    del self.board[k]\n",
        "                self.board[(i, j, max_segh, max_segv)] = value\n",
        "\n",
        "    def segment_analysis(self):\n",
        "        self._segment_rows()\n",
        "        self._segment_cols()\n",
        "\n",
        "    def _segment_rows(self):\n",
        "        self.row_segh = {}\n",
        "        for r in range(self.nb_rows):\n",
        "            counter, segh = 0, 0\n",
        "            for key in self.board.keys():\n",
        "                if key[0] == r:\n",
        "                    if key[2] != segh:\n",
        "                        self.row_segh[(r, segh)] = counter\n",
        "                        segh += 1\n",
        "                        counter = 0\n",
        "                    counter += 1\n",
        "            self.row_segh[(r, segh)] = counter\n",
        "\n",
        "    def _segment_cols(self):\n",
        "        self.col_segv = {}\n",
        "        for c in range(self.nb_cols):\n",
        "            counter, segv = 0, 0\n",
        "            for key in self.board.keys():\n",
        "                if key[1] == c:\n",
        "                    if key[3] != segv:\n",
        "                        self.col_segv[(c, segv)] = counter\n",
        "                        segv += 1\n",
        "                        counter = 0\n",
        "                    counter += 1\n",
        "            self.col_segv[(c, segv)] = counter\n",
        "\n",
        "    def compute_domains(self):\n",
        "        for k in self.board.keys():\n",
        "            if self.board[k] != -1:\n",
        "                self.domain[k] = {self.board[k]}\n",
        "            else:\n",
        "                row_limit = self.row_segh[(k[0], k[2])]\n",
        "                col_limit = self.col_segv[(k[1], k[3])]\n",
        "                self.domain[k] = set(range(1, min(row_limit, col_limit) + 1))\n",
        "\n",
        "    @staticmethod\n",
        "    def forward_propagate(domain):\n",
        "        operations = 0\n",
        "        for k in domain.keys():\n",
        "            if len(domain[k]) == 1:\n",
        "                neighbors = [k1 for k1 in domain.keys() if k != k1 and (\n",
        "                        (k[0] == k1[0] and k[2] == k1[2]) or (k[1] == k1[1] and k[3] == k1[3]))]\n",
        "                for neighbor in neighbors:\n",
        "                    if domain[k].issubset(domain[neighbor]):\n",
        "                        domain[neighbor] -= domain[k]\n",
        "                        operations += 1\n",
        "        return operations\n",
        "\n",
        "    @staticmethod\n",
        "    def backtrack(domain):\n",
        "        if all(len(values) == 1 for values in domain.values()):\n",
        "            return True, domain\n",
        "\n",
        "        variable = random.choice([k for k in domain.keys() if len(domain[k]) > 1])\n",
        "        for value in domain[variable]:\n",
        "            new_domain = copy.deepcopy(domain)\n",
        "            new_domain[variable] = {value}\n",
        "            GameBoard.forward_propagate(new_domain)\n",
        "\n",
        "            if any(len(values) == 0 for values in new_domain.values()):\n",
        "                continue\n",
        "\n",
        "            solved, solution = GameBoard.backtrack(new_domain)\n",
        "            if solved:\n",
        "                return solved, solution\n",
        "\n",
        "        return False, {}\n",
        "\n",
        "    def solve(self):\n",
        "        operations = 1\n",
        "        while operations != 0:\n",
        "            operations = self.forward_propagate(self.domain)\n",
        "        _, solution = self.backtrack(copy.deepcopy(self.domain))\n",
        "        return solution\n",
        "\n",
        "    def draw_colored_grid_with_wall(self, n, solution):\n",
        "\n",
        "        grid_values = np.random.randint(1, 9, size=(n, n))\n",
        "\n",
        "        for k,v in solution.items():\n",
        "          grid_values[k[0]][k[1]] = list(v)[0]\n",
        "\n",
        "        # Generate random colors for each box\n",
        "        colors = np.random.rand(n, n, 3)\n",
        "\n",
        "        walls, blocks = [], []\n",
        "        r, c = 0, 0\n",
        "\n",
        "        for row in gamestr_h.split('r'):\n",
        "          c = 0\n",
        "          for col in row:\n",
        "            if col==\"w\":\n",
        "              walls.append((r, c, \"left\"))\n",
        "            elif col == \"b\":\n",
        "              blocks.append((r, c))\n",
        "            else:\n",
        "              c += 1\n",
        "          r += 1\n",
        "\n",
        "        r, c = 0, 0\n",
        "\n",
        "        for col in gamestr_v.split('c'):\n",
        "          r = 0\n",
        "          for row in col:\n",
        "            if row==\"w\":\n",
        "              walls.append((r, c, \"top\"))\n",
        "            else:\n",
        "              r += 1\n",
        "          c += 1\n",
        "\n",
        "        given_values = []\n",
        "        for k,v in self.board.items():\n",
        "          if v != -1:\n",
        "            given_values.append((k[0], k[1]))\n",
        "\n",
        "\n",
        "\n",
        "\n",
        "        #Create the figure\n",
        "        fig, ax = plt.subplots(figsize=(n, n))\n",
        "\n",
        "        # Draw the entire n x n grid with random colors and numbers\n",
        "        for i in range(n):\n",
        "            for j in range(n):\n",
        "                # Draw each grid cell with random color\n",
        "                ax.add_patch(plt.Rectangle((j, n - i - 1), 1, 1, color=\"white\"))\n",
        "                # Add the numerical value to each cell\n",
        "                ax.text(j + 0.5, n - i - 1 + 0.5, str(grid_values[i, j]),\n",
        "                        color=\"red\", ha='center', va='center', fontsize=12, weight='bold')\n",
        "\n",
        "        for i,j in given_values:\n",
        "          ax.text(j + 0.5, n - i - 1 + 0.5, str(grid_values[i, j]),\n",
        "                        color=\"blue\", ha='center', va='center', fontsize=12, weight='bold')\n",
        "\n",
        "        for block in blocks:\n",
        "          i,j = block\n",
        "          ax.add_patch(plt.Rectangle((j, n - i - 1), 1, 1, color=\"black\"))\n",
        "          ax.text(j + 0.5, n - i - 1 + 0.5, str(grid_values[i, j]),\n",
        "                  color=\"black\", ha='center', va='center', fontsize=12, weight='bold')\n",
        "\n",
        "\n",
        "        # Highlight only one wall (left or right) of the specified cell\n",
        "        for wall in walls:\n",
        "          r, c, side = wall\n",
        "          if side == 'left':\n",
        "            ax.add_patch(plt.Rectangle((c, n - r - 1), 0.1, 1, color='black'))  # Left wall change\n",
        "          if side == 'top':\n",
        "            ax.add_patch(plt.Rectangle((c, n - r - 0.1), 1, 0.1, color='black'))  # top wall change\n",
        "\n",
        "        # Set grid and visualization properties\n",
        "        ax.set_xlim(0, n)\n",
        "        ax.set_ylim(0, n)\n",
        "        ax.set_xticks(np.arange(0, n + 1, 1))\n",
        "        ax.set_yticks(np.arange(0, n + 1, 1))\n",
        "        ax.grid(True, which='both', color='black', linestyle='-', linewidth=0.5)\n",
        "        ax.set_xticklabels([])\n",
        "        ax.set_yticklabels([])\n",
        "        ax.set_aspect('equal')\n",
        "\n",
        "        # plt.show()"
      ],
      "metadata": {
        "id": "qPsCiTGK5BQB"
      },
      "execution_count": null,
      "outputs": []
    },
    {
      "cell_type": "code",
      "source": [
        "gamestr_h = \"x5xxxxrxxx5xxrxx1xxwxrxxxwxxxrxxxxwxxrxxxxxx\"\n",
        "gamestr_v = \"xxxxwxxc5xxxxxcxx1wxxxcx5xxxxcxxxxxwxcxxxxxx\"\n",
        "\n",
        "game = GameBoard(gamestr_h, gamestr_v)\n",
        "game.parse_horizontal()\n",
        "game.parse_vertical()\n",
        "game.merge_segments()\n",
        "game.segment_analysis()\n",
        "game.compute_domains()\n",
        "\n",
        "solution = game.solve()\n",
        "game.draw_colored_grid_with_wall(round(len(solution)**(1/2)), solution)"
      ],
      "metadata": {
        "colab": {
          "base_uri": "https://localhost:8080/",
          "height": 503
        },
        "id": "N4yF3rBHQu2P",
        "outputId": "72466800-60de-4baf-9d2e-cf7433cee894"
      },
      "execution_count": null,
      "outputs": [
        {
          "output_type": "display_data",
          "data": {
            "text/plain": [
              "<Figure size 600x600 with 1 Axes>"
            ],
            "image/png": "[encoded data removed]"
          },
          "metadata": {}
        }
      ]
    },
    {
      "cell_type": "code",
      "source": [
        "gamestr_h = \"xx23bxxrxxxxxx6rxxxxwxxxrxxxxxxwxrxxxx6xxr2xxxxxxrxxxwxxxx\"\n",
        "gamestr_v = \"xxxxx2xcxxxxxxxc2xxxwxwxxc3xxwxxxxcbxxx6xxcxxxxwxxxcx6xxxxx\"\n",
        "\n",
        "game = GameBoard(gamestr_h, gamestr_v)\n",
        "game.parse_horizontal()\n",
        "game.parse_vertical()\n",
        "game.merge_segments()\n",
        "game.segment_analysis()\n",
        "game.compute_domains()\n",
        "\n",
        "solution = game.solve()\n",
        "game.draw_colored_grid_with_wall(round(len(solution)**(1/2)), solution)"
      ],
      "metadata": {
        "colab": {
          "base_uri": "https://localhost:8080/",
          "height": 580
        },
        "id": "WNTXUo6nRCi3",
        "outputId": "469901a2-8501-40cf-add8-efe64d1cab02"
      },
      "execution_count": null,
      "outputs": [
        {
          "output_type": "display_data",
          "data": {
            "text/plain": [
              "<Figure size 700x700 with 1 Axes>"
            ],
            "image/png": "[encoded data removed]"
          },
          "metadata": {}
        }
      ]
    },
    {
      "cell_type": "code",
      "source": [
        "gamestr_h = \"216xxxrxxwxxxxr4xxxxxrxxxwxx2rxxxxx1rxxxxx6\"\n",
        "gamestr_v = \"2x4xxxc1xxwxxxc6xxxxxcxxxxxxcxxxxwxxcxxx216\"\n",
        "\n",
        "game = GameBoard(gamestr_h, gamestr_v)\n",
        "game.parse_horizontal()\n",
        "game.parse_vertical()\n",
        "game.merge_segments()\n",
        "game.segment_analysis()\n",
        "game.compute_domains()\n",
        "\n",
        "solution = game.solve()\n",
        "game.draw_colored_grid_with_wall(round(len(solution)**(1/2)), solution)"
      ],
      "metadata": {
        "colab": {
          "base_uri": "https://localhost:8080/",
          "height": 503
        },
        "id": "b0lDgvApRJgu",
        "outputId": "c8e139b8-ff05-42df-fb38-5fe8149a79eb"
      },
      "execution_count": null,
      "outputs": [
        {
          "output_type": "display_data",
          "data": {
            "text/plain": [
              "<Figure size 600x600 with 1 Axes>"
            ],
            "image/png": "[encoded data removed]"
          },
          "metadata": {}
        }
      ]
    },
    {
      "cell_type": "code",
      "source": [],
      "metadata": {
        "id": "GCbTiyrMTF3g"
      },
      "execution_count": null,
      "outputs": []
    },
    {
      "cell_type": "code",
      "source": [
        "gamestr_h = \"xxxxrxxwxxrxxxxrx1xwx\"\n",
        "gamestr_v = \"xxxxcxxx1cxxwxxcxwxxx\"\n",
        "\n",
        "game = GameBoard(gamestr_h, gamestr_v)\n",
        "game.parse_horizontal()\n",
        "game.parse_vertical()\n",
        "game.merge_segments()\n",
        "game.segment_analysis()\n",
        "game.compute_domains()\n",
        "\n",
        "solution = game.solve()\n",
        "game.draw_colored_grid_with_wall(round(len(solution)**(1/2)), solution)"
      ],
      "metadata": {
        "id": "M28FvIweTFz_",
        "colab": {
          "base_uri": "https://localhost:8080/",
          "height": 349
        },
        "outputId": "e1b2b612-4421-4fdb-a83a-c13347727110"
      },
      "execution_count": null,
      "outputs": [
        {
          "output_type": "display_data",
          "data": {
            "text/plain": [
              "<Figure size 400x400 with 1 Axes>"
            ],
            "image/png": "[encoded data removed]"
          },
          "metadata": {}
        }
      ]
    },
    {
      "cell_type": "code",
      "source": [
        "gamestr_h = \"xxxxxrxx1wxxrxx5xxrx2xxxrxxxxwx\"\n",
        "gamestr_v = \"xxxwxxcxxx2xcx15xxcxxxxwxcxxxxx\"\n",
        "\n",
        "game = GameBoard(gamestr_h, gamestr_v)\n",
        "game.parse_horizontal()\n",
        "game.parse_vertical()\n",
        "game.merge_segments()\n",
        "game.segment_analysis()\n",
        "game.compute_domains()\n",
        "\n",
        "solution = game.solve()\n",
        "game.draw_colored_grid_with_wall(round(len(solution)**(1/2)), solution)"
      ],
      "metadata": {
        "colab": {
          "base_uri": "https://localhost:8080/",
          "height": 426
        },
        "id": "Cd1-THw-e-pB",
        "outputId": "bcc345f6-552d-4a4d-cefc-4d1a6df14ba9"
      },
      "execution_count": null,
      "outputs": [
        {
          "output_type": "display_data",
          "data": {
            "text/plain": [
              "<Figure size 500x500 with 1 Axes>"
            ],
            "image/png": "[encoded data removed]"
          },
          "metadata": {}
        }
      ]
    },
    {
      "cell_type": "code",
      "source": [],
      "metadata": {
        "id": "y8Bm2-37ftFQ"
      },
      "execution_count": null,
      "outputs": []
    }
  ]
}